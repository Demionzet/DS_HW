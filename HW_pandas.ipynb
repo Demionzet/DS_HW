{
 "cells": [
  {
   "cell_type": "code",
   "execution_count": 118,
   "metadata": {
    "tags": []
   },
   "outputs": [],
   "source": [
    "import pandas as pd\n",
    "import matplotlib.pyplot as plt"
   ]
  },
  {
   "cell_type": "code",
   "execution_count": 119,
   "metadata": {},
   "outputs": [],
   "source": [
    "train = pd.read_csv('train.csv')\n",
    "questions = pd.read_csv('questions.csv')\n",
    "lectures = pd.read_csv('lectures.csv')"
   ]
  },
  {
   "cell_type": "code",
   "execution_count": 120,
   "metadata": {},
   "outputs": [],
   "source": [
    "train['user_id'] = train['user_id'].astype('int32')\n",
    "train['content_id'] = train['content_id'].astype('int16')\n",
    "train['content_type_id'] = train['content_type_id'].astype('int8')\n",
    "train['task_container_id'] = train['task_container_id'].astype('int16')\n",
    "train['user_answer'] = train['user_answer'].astype('int8')\n",
    "train['answered_correctly'] = train['answered_correctly'].astype('int8')\n",
    "train['prior_question_elapsed_time'] = train['prior_question_elapsed_time'].astype('float32')\n",
    "train['prior_question_had_explanation'] = train['prior_question_had_explanation'].astype('boolean')"
   ]
  },
  {
   "cell_type": "code",
   "execution_count": 121,
   "metadata": {},
   "outputs": [
    {
     "name": "stdout",
     "output_type": "stream",
     "text": [
      "В этом наборе данных 101230332 строк и 10 столбцов\n"
     ]
    }
   ],
   "source": [
    "print(f'В этом наборе данных {train.shape[0]} строк и {train.shape[1]} столбцов')"
   ]
  },
  {
   "cell_type": "markdown",
   "metadata": {},
   "source": [
    "Заметим что row_id возможно дублирует index"
   ]
  },
  {
   "cell_type": "code",
   "execution_count": 122,
   "metadata": {},
   "outputs": [
    {
     "name": "stdout",
     "output_type": "stream",
     "text": [
      "Минимально значение row_id 0, максимальное 101230331, каждое значение встречается не более 1 раза\n"
     ]
    }
   ],
   "source": [
    "print(f\"Минимально значение row_id {train['row_id'].min()}, максимальное {train['row_id'].max()}, каждое значение встречается не более {train['row_id'].value_counts().max()} раза\")"
   ]
  },
  {
   "cell_type": "markdown",
   "metadata": {},
   "source": [
    "Минимальное и максимальное значение совпадает с index, все значения уникальны. row_id можно удалить"
   ]
  },
  {
   "cell_type": "code",
   "execution_count": 123,
   "metadata": {},
   "outputs": [
    {
     "data": {
      "text/html": [
       "<div>\n",
       "<style scoped>\n",
       "    .dataframe tbody tr th:only-of-type {\n",
       "        vertical-align: middle;\n",
       "    }\n",
       "\n",
       "    .dataframe tbody tr th {\n",
       "        vertical-align: top;\n",
       "    }\n",
       "\n",
       "    .dataframe thead th {\n",
       "        text-align: right;\n",
       "    }\n",
       "</style>\n",
       "<table border=\"1\" class=\"dataframe\">\n",
       "  <thead>\n",
       "    <tr style=\"text-align: right;\">\n",
       "      <th></th>\n",
       "      <th>timestamp</th>\n",
       "      <th>user_id</th>\n",
       "      <th>content_id</th>\n",
       "      <th>content_type_id</th>\n",
       "      <th>task_container_id</th>\n",
       "      <th>user_answer</th>\n",
       "      <th>answered_correctly</th>\n",
       "      <th>prior_question_elapsed_time</th>\n",
       "      <th>prior_question_had_explanation</th>\n",
       "    </tr>\n",
       "  </thead>\n",
       "  <tbody>\n",
       "    <tr>\n",
       "      <th>0</th>\n",
       "      <td>0</td>\n",
       "      <td>115</td>\n",
       "      <td>5692</td>\n",
       "      <td>0</td>\n",
       "      <td>1</td>\n",
       "      <td>3</td>\n",
       "      <td>1</td>\n",
       "      <td>NaN</td>\n",
       "      <td>&lt;NA&gt;</td>\n",
       "    </tr>\n",
       "    <tr>\n",
       "      <th>1</th>\n",
       "      <td>56943</td>\n",
       "      <td>115</td>\n",
       "      <td>5716</td>\n",
       "      <td>0</td>\n",
       "      <td>2</td>\n",
       "      <td>2</td>\n",
       "      <td>1</td>\n",
       "      <td>37000.0</td>\n",
       "      <td>False</td>\n",
       "    </tr>\n",
       "    <tr>\n",
       "      <th>2</th>\n",
       "      <td>118363</td>\n",
       "      <td>115</td>\n",
       "      <td>128</td>\n",
       "      <td>0</td>\n",
       "      <td>0</td>\n",
       "      <td>0</td>\n",
       "      <td>1</td>\n",
       "      <td>55000.0</td>\n",
       "      <td>False</td>\n",
       "    </tr>\n",
       "    <tr>\n",
       "      <th>3</th>\n",
       "      <td>131167</td>\n",
       "      <td>115</td>\n",
       "      <td>7860</td>\n",
       "      <td>0</td>\n",
       "      <td>3</td>\n",
       "      <td>0</td>\n",
       "      <td>1</td>\n",
       "      <td>19000.0</td>\n",
       "      <td>False</td>\n",
       "    </tr>\n",
       "    <tr>\n",
       "      <th>4</th>\n",
       "      <td>137965</td>\n",
       "      <td>115</td>\n",
       "      <td>7922</td>\n",
       "      <td>0</td>\n",
       "      <td>4</td>\n",
       "      <td>1</td>\n",
       "      <td>1</td>\n",
       "      <td>11000.0</td>\n",
       "      <td>False</td>\n",
       "    </tr>\n",
       "    <tr>\n",
       "      <th>...</th>\n",
       "      <td>...</td>\n",
       "      <td>...</td>\n",
       "      <td>...</td>\n",
       "      <td>...</td>\n",
       "      <td>...</td>\n",
       "      <td>...</td>\n",
       "      <td>...</td>\n",
       "      <td>...</td>\n",
       "      <td>...</td>\n",
       "    </tr>\n",
       "    <tr>\n",
       "      <th>101230327</th>\n",
       "      <td>428564420</td>\n",
       "      <td>2147482888</td>\n",
       "      <td>3586</td>\n",
       "      <td>0</td>\n",
       "      <td>22</td>\n",
       "      <td>0</td>\n",
       "      <td>1</td>\n",
       "      <td>18000.0</td>\n",
       "      <td>True</td>\n",
       "    </tr>\n",
       "    <tr>\n",
       "      <th>101230328</th>\n",
       "      <td>428585000</td>\n",
       "      <td>2147482888</td>\n",
       "      <td>6341</td>\n",
       "      <td>0</td>\n",
       "      <td>23</td>\n",
       "      <td>3</td>\n",
       "      <td>1</td>\n",
       "      <td>14000.0</td>\n",
       "      <td>True</td>\n",
       "    </tr>\n",
       "    <tr>\n",
       "      <th>101230329</th>\n",
       "      <td>428613475</td>\n",
       "      <td>2147482888</td>\n",
       "      <td>4212</td>\n",
       "      <td>0</td>\n",
       "      <td>24</td>\n",
       "      <td>3</td>\n",
       "      <td>1</td>\n",
       "      <td>14000.0</td>\n",
       "      <td>True</td>\n",
       "    </tr>\n",
       "    <tr>\n",
       "      <th>101230330</th>\n",
       "      <td>428649406</td>\n",
       "      <td>2147482888</td>\n",
       "      <td>6343</td>\n",
       "      <td>0</td>\n",
       "      <td>25</td>\n",
       "      <td>1</td>\n",
       "      <td>0</td>\n",
       "      <td>22000.0</td>\n",
       "      <td>True</td>\n",
       "    </tr>\n",
       "    <tr>\n",
       "      <th>101230331</th>\n",
       "      <td>428692118</td>\n",
       "      <td>2147482888</td>\n",
       "      <td>7995</td>\n",
       "      <td>0</td>\n",
       "      <td>26</td>\n",
       "      <td>3</td>\n",
       "      <td>1</td>\n",
       "      <td>29000.0</td>\n",
       "      <td>True</td>\n",
       "    </tr>\n",
       "  </tbody>\n",
       "</table>\n",
       "<p>101230332 rows × 9 columns</p>\n",
       "</div>"
      ],
      "text/plain": [
       "           timestamp     user_id  content_id  content_type_id  \\\n",
       "0                  0         115        5692                0   \n",
       "1              56943         115        5716                0   \n",
       "2             118363         115         128                0   \n",
       "3             131167         115        7860                0   \n",
       "4             137965         115        7922                0   \n",
       "...              ...         ...         ...              ...   \n",
       "101230327  428564420  2147482888        3586                0   \n",
       "101230328  428585000  2147482888        6341                0   \n",
       "101230329  428613475  2147482888        4212                0   \n",
       "101230330  428649406  2147482888        6343                0   \n",
       "101230331  428692118  2147482888        7995                0   \n",
       "\n",
       "           task_container_id  user_answer  answered_correctly  \\\n",
       "0                          1            3                   1   \n",
       "1                          2            2                   1   \n",
       "2                          0            0                   1   \n",
       "3                          3            0                   1   \n",
       "4                          4            1                   1   \n",
       "...                      ...          ...                 ...   \n",
       "101230327                 22            0                   1   \n",
       "101230328                 23            3                   1   \n",
       "101230329                 24            3                   1   \n",
       "101230330                 25            1                   0   \n",
       "101230331                 26            3                   1   \n",
       "\n",
       "           prior_question_elapsed_time  prior_question_had_explanation  \n",
       "0                                  NaN                            <NA>  \n",
       "1                              37000.0                           False  \n",
       "2                              55000.0                           False  \n",
       "3                              19000.0                           False  \n",
       "4                              11000.0                           False  \n",
       "...                                ...                             ...  \n",
       "101230327                      18000.0                            True  \n",
       "101230328                      14000.0                            True  \n",
       "101230329                      14000.0                            True  \n",
       "101230330                      22000.0                            True  \n",
       "101230331                      29000.0                            True  \n",
       "\n",
       "[101230332 rows x 9 columns]"
      ]
     },
     "execution_count": 123,
     "metadata": {},
     "output_type": "execute_result"
    }
   ],
   "source": [
    "train = train.drop(columns=['row_id'])\n",
    "train"
   ]
  },
  {
   "cell_type": "code",
   "execution_count": 124,
   "metadata": {},
   "outputs": [
    {
     "name": "stdout",
     "output_type": "stream",
     "text": [
      "timestamp лежит в границах от 0 до 87425772049\n"
     ]
    }
   ],
   "source": [
    "print(f'timestamp лежит в границах от {train[\"timestamp\"].min()} до {train[\"timestamp\"].max()}')"
   ]
  },
  {
   "cell_type": "code",
   "execution_count": 125,
   "metadata": {},
   "outputs": [
    {
     "data": {
      "image/png": "[encoded data removed]",
      "text/plain": [
       "<Figure size 640x480 with 1 Axes>"
      ]
     },
     "metadata": {},
     "output_type": "display_data"
    }
   ],
   "source": [
    "# 604800000 - количество мс в неделе\n",
    "ts = train['timestamp']/(604800000)\n",
    "fig = plt.figure()\n",
    "# Разобьем данные на 100 столбцов\n",
    "ts.plot.hist(bins=100)\n",
    "plt.title(\"Гистограмма распределения timestamp\")\n",
    "plt.xlabel(\"Недели\")\n",
    "plt.show()"
   ]
  },
  {
   "cell_type": "code",
   "execution_count": 126,
   "metadata": {},
   "outputs": [
    {
     "data": {
      "text/plain": [
       "user_id\n",
       "115             668090043\n",
       "124                571323\n",
       "2746               835457\n",
       "5382           2101551456\n",
       "8623            862338736\n",
       "                 ...     \n",
       "2147470770     2832089444\n",
       "2147470777    13332685203\n",
       "2147481750       55954768\n",
       "2147482216     1470594073\n",
       "2147482888      428692118\n",
       "Name: timestamp, Length: 393656, dtype: int64"
      ]
     },
     "execution_count": 126,
     "metadata": {},
     "output_type": "execute_result"
    }
   ],
   "source": [
    "train.groupby(['user_id'])['timestamp'].max()\n"
   ]
  },
  {
   "cell_type": "code",
   "execution_count": 127,
   "metadata": {},
   "outputs": [
    {
     "data": {
      "image/png": "[encoded data removed]",
      "text/plain": [
       "<Figure size 640x480 with 1 Axes>"
      ]
     },
     "metadata": {},
     "output_type": "display_data"
    }
   ],
   "source": [
    "train_by_user = train.groupby(['user_id'])\n",
    "m_ts_by_user_df = train_by_user['timestamp'].max()\n",
    "# 604800000 - количество мс в неделе\n",
    "m_ts_by_user = m_ts_by_user_df/(604800000)\n",
    "fig2 = plt.figure()\n",
    "# Разобьем данные на 30 столбцов\n",
    "m_ts_by_user.plot.hist(bins=50)\n",
    "plt.title(\"Гистограмма распределения максимального timestamp\")\n",
    "plt.xlabel(\"Недели\")\n",
    "plt.show()"
   ]
  },
  {
   "cell_type": "code",
   "execution_count": 128,
   "metadata": {},
   "outputs": [
    {
     "name": "stdout",
     "output_type": "stream",
     "text": [
      "Количество уникальных user_id: 393656\n",
      "В среднем записей на user_id: 257\n"
     ]
    }
   ],
   "source": [
    "print(f\"Количество уникальных user_id: {train['user_id'].nunique()}\")\n",
    "print(f\"В среднем записей на user_id: {train.shape[0] // train['user_id'].nunique()}\")\n"
   ]
  },
  {
   "cell_type": "code",
   "execution_count": 129,
   "metadata": {},
   "outputs": [
    {
     "name": "stdout",
     "output_type": "stream",
     "text": [
      "content_type_id принимает значение 0 или 1. 0 с вероятностью 98%\n"
     ]
    }
   ],
   "source": [
    "questons_p = train['content_type_id'].value_counts(normalize=True)[0]\n",
    "print(f'content_type_id принимает значение 0 или 1. 0 с вероятностью {questons_p:2.0%}')"
   ]
  },
  {
   "cell_type": "code",
   "execution_count": 130,
   "metadata": {},
   "outputs": [
    {
     "data": {
      "text/plain": [
       " 0    28186489\n",
       " 1    26990007\n",
       " 3    26084784\n",
       " 2    18010020\n",
       "-1     1959032\n",
       "Name: user_answer, dtype: int64"
      ]
     },
     "execution_count": 130,
     "metadata": {},
     "output_type": "execute_result"
    }
   ],
   "source": [
    "train['user_answer'].value_counts()"
   ]
  },
  {
   "cell_type": "code",
   "execution_count": 131,
   "metadata": {},
   "outputs": [
    {
     "name": "stdout",
     "output_type": "stream",
     "text": [
      "Ответ 0: 28.39%\n",
      "Ответ 1: 27.19%\n",
      "Ответ 2: 18.14%\n",
      "Ответ 3: 26.28%\n"
     ]
    }
   ],
   "source": [
    "user_answers = train[train['user_answer'] != -1]['user_answer'].value_counts(normalize=True)\n",
    "max_user_answer = train['user_answer'].max()\n",
    "for answer in range(max_user_answer + 1):\n",
    "    print(f\"Ответ {answer}: {user_answers[answer]:2.2%}\")"
   ]
  },
  {
   "cell_type": "code",
   "execution_count": 132,
   "metadata": {},
   "outputs": [
    {
     "data": {
      "text/plain": [
       " 1    65244627\n",
       " 0    34026673\n",
       "-1     1959032\n",
       "Name: answered_correctly, dtype: int64"
      ]
     },
     "execution_count": 132,
     "metadata": {},
     "output_type": "execute_result"
    }
   ],
   "source": [
    "train['answered_correctly'].value_counts()"
   ]
  },
  {
   "cell_type": "code",
   "execution_count": 133,
   "metadata": {},
   "outputs": [
    {
     "name": "stdout",
     "output_type": "stream",
     "text": [
      "Верных: 65.72%\n",
      "Ошибочных : 34.28%\n"
     ]
    }
   ],
   "source": [
    "user_correct_answers = train[train['answered_correctly'] != -1]['answered_correctly'].value_counts(normalize=True)\n",
    "print(f\"Верных: {user_correct_answers[1]:2.2%}\")\n",
    "print(f\"Ошибочных : {user_correct_answers[0]:2.2%}\")"
   ]
  },
  {
   "cell_type": "markdown",
   "metadata": {},
   "source": [
    "Распределение процента правильных ответов по пользователям"
   ]
  },
  {
   "cell_type": "code",
   "execution_count": 134,
   "metadata": {},
   "outputs": [
    {
     "data": {
      "image/png": "[encoded data removed]",
      "text/plain": [
       "<Figure size 640x480 with 1 Axes>"
      ]
     },
     "metadata": {},
     "output_type": "display_data"
    }
   ],
   "source": [
    "correct_per_user  = train[train['answered_correctly'] != -1].groupby('user_id')['answered_correctly'].mean()\n",
    "correct_per_user.plot.hist(bins=15)\n",
    "plt.show()"
   ]
  },
  {
   "cell_type": "code",
   "execution_count": 135,
   "metadata": {},
   "outputs": [
    {
     "name": "stdout",
     "output_type": "stream",
     "text": [
      "Количество уникальных content_id: 13782\n",
      "Диапазон от 0 до 32736\n"
     ]
    }
   ],
   "source": [
    "content_id_count = train['content_id'].nunique()\n",
    "content_id_min = train['content_id'].min()\n",
    "content_id_max = train['content_id'].max()\n",
    "\n",
    "print(f\"Количество уникальных content_id: {content_id_count}\")\n",
    "print(f\"Диапазон от {content_id_min} до {content_id_max}\")"
   ]
  },
  {
   "cell_type": "code",
   "execution_count": 136,
   "metadata": {},
   "outputs": [
    {
     "name": "stdout",
     "output_type": "stream",
     "text": [
      "Срденестатистический content_id встрчается 4728 раз\n"
     ]
    }
   ],
   "source": [
    "print(f\"Срденестатистический content_id встрчается {train['content_id'].value_counts().median():.0f} раз\")"
   ]
  },
  {
   "cell_type": "markdown",
   "metadata": {},
   "source": [
    "Добавим в train информацию о part из questions по каждому content_id"
   ]
  },
  {
   "cell_type": "code",
   "execution_count": 137,
   "metadata": {},
   "outputs": [],
   "source": [
    "train = train.merge(questions[['question_id','part']], left_on='content_id', right_on='question_id').drop(columns=['question_id'])"
   ]
  },
  {
   "cell_type": "markdown",
   "metadata": {},
   "source": [
    "Создадим отдельный датафрейм исключив лекции"
   ]
  },
  {
   "cell_type": "code",
   "execution_count": 138,
   "metadata": {},
   "outputs": [],
   "source": [
    "train_questions = train[train['answered_correctly'] != -1]"
   ]
  },
  {
   "cell_type": "code",
   "execution_count": 139,
   "metadata": {},
   "outputs": [
    {
     "name": "stdout",
     "output_type": "stream",
     "text": [
      "Общий процент правильных ответов: 65.72%\n"
     ]
    }
   ],
   "source": [
    "totla_p = train_questions['answered_correctly'].mean()\n",
    "print(f\"Общий процент правильных ответов: {totla_p:2.2%}\")"
   ]
  },
  {
   "cell_type": "markdown",
   "metadata": {},
   "source": [
    "Найдем процент правильных ответов по каждому part"
   ]
  },
  {
   "cell_type": "code",
   "execution_count": 140,
   "metadata": {},
   "outputs": [
    {
     "data": {
      "text/plain": [
       "part\n",
       "1    74.50%\n",
       "2    70.87%\n",
       "3    70.15%\n",
       "6    66.94%\n",
       "7    65.96%\n",
       "4    63.10%\n",
       "5    61.01%\n",
       "Name: answered_correctly, dtype: object"
      ]
     },
     "metadata": {},
     "output_type": "display_data"
    }
   ],
   "source": [
    "display(train_questions.groupby('part')['answered_correctly'].mean().sort_values(ascending=False).apply(lambda x: f'{x:2.2%}'))"
   ]
  },
  {
   "cell_type": "code",
   "execution_count": 141,
   "metadata": {},
   "outputs": [
    {
     "name": "stdout",
     "output_type": "stream",
     "text": [
      "Максимальный prior_question_elapsed_time: 300000 мс\n",
      "Минимальный (больше 0) prior_question_elapsed_time: 200 мс\n",
      "Медианный prior_question_elapsed_time: 21000 мс\n"
     ]
    }
   ],
   "source": [
    "train_elapsed_time = train[train['prior_question_elapsed_time'].notna()]\n",
    "elapsed_time_max = train_elapsed_time['prior_question_elapsed_time'].max()\n",
    "elapsed_time_min = train_elapsed_time[train_elapsed_time['prior_question_elapsed_time'] > 0]['prior_question_elapsed_time'].min()\n",
    "elapsed_time_med = train_elapsed_time['prior_question_elapsed_time'].median()\n",
    "print(f'Максимальный prior_question_elapsed_time: {elapsed_time_max:.0f} мс')\n",
    "print(f'Минимальный (больше 0) prior_question_elapsed_time: {elapsed_time_min:.0f} мс')\n",
    "print(f'Медианный prior_question_elapsed_time: {elapsed_time_med:.0f} мс')"
   ]
  },
  {
   "cell_type": "code",
   "execution_count": 142,
   "metadata": {},
   "outputs": [
    {
     "data": {
      "image/png": "[encoded data removed]",
      "text/plain": [
       "<Figure size 640x480 with 1 Axes>"
      ]
     },
     "metadata": {},
     "output_type": "display_data"
    }
   ],
   "source": [
    "# 6000 - количество мс в минуте\n",
    "et = train_elapsed_time['prior_question_elapsed_time']/(6000)\n",
    "fig = plt.figure()\n",
    "# Разобьем данные на 150 столбцов\n",
    "et.plot.hist(bins=150)\n",
    "plt.title(\"Гистограмма распределения prior_question_elapsed_time\")\n",
    "plt.xlabel(\"мин\")\n",
    "plt.show()"
   ]
  },
  {
   "cell_type": "code",
   "execution_count": 143,
   "metadata": {},
   "outputs": [
    {
     "name": "stdout",
     "output_type": "stream",
     "text": [
      "Было объяснено 90.00% вопросов\n"
     ]
    }
   ],
   "source": [
    "had_exploration_p = train['prior_question_had_explanation'].mean()\n",
    "print(f\"Было объяснено {had_exploration_p:2.2%} вопросов\")"
   ]
  },
  {
   "cell_type": "code",
   "execution_count": 144,
   "metadata": {},
   "outputs": [
    {
     "data": {
      "text/html": [
       "<div>\n",
       "<style scoped>\n",
       "    .dataframe tbody tr th:only-of-type {\n",
       "        vertical-align: middle;\n",
       "    }\n",
       "\n",
       "    .dataframe tbody tr th {\n",
       "        vertical-align: top;\n",
       "    }\n",
       "\n",
       "    .dataframe thead th {\n",
       "        text-align: right;\n",
       "    }\n",
       "</style>\n",
       "<table border=\"1\" class=\"dataframe\">\n",
       "  <thead>\n",
       "    <tr style=\"text-align: right;\">\n",
       "      <th></th>\n",
       "      <th>lecture_id</th>\n",
       "      <th>tag</th>\n",
       "      <th>part</th>\n",
       "      <th>type_of</th>\n",
       "    </tr>\n",
       "  </thead>\n",
       "  <tbody>\n",
       "    <tr>\n",
       "      <th>0</th>\n",
       "      <td>89</td>\n",
       "      <td>159</td>\n",
       "      <td>5</td>\n",
       "      <td>concept</td>\n",
       "    </tr>\n",
       "    <tr>\n",
       "      <th>1</th>\n",
       "      <td>100</td>\n",
       "      <td>70</td>\n",
       "      <td>1</td>\n",
       "      <td>concept</td>\n",
       "    </tr>\n",
       "    <tr>\n",
       "      <th>2</th>\n",
       "      <td>185</td>\n",
       "      <td>45</td>\n",
       "      <td>6</td>\n",
       "      <td>concept</td>\n",
       "    </tr>\n",
       "    <tr>\n",
       "      <th>3</th>\n",
       "      <td>192</td>\n",
       "      <td>79</td>\n",
       "      <td>5</td>\n",
       "      <td>solving question</td>\n",
       "    </tr>\n",
       "    <tr>\n",
       "      <th>4</th>\n",
       "      <td>317</td>\n",
       "      <td>156</td>\n",
       "      <td>5</td>\n",
       "      <td>solving question</td>\n",
       "    </tr>\n",
       "    <tr>\n",
       "      <th>...</th>\n",
       "      <td>...</td>\n",
       "      <td>...</td>\n",
       "      <td>...</td>\n",
       "      <td>...</td>\n",
       "    </tr>\n",
       "    <tr>\n",
       "      <th>413</th>\n",
       "      <td>32535</td>\n",
       "      <td>8</td>\n",
       "      <td>5</td>\n",
       "      <td>solving question</td>\n",
       "    </tr>\n",
       "    <tr>\n",
       "      <th>414</th>\n",
       "      <td>32570</td>\n",
       "      <td>113</td>\n",
       "      <td>3</td>\n",
       "      <td>solving question</td>\n",
       "    </tr>\n",
       "    <tr>\n",
       "      <th>415</th>\n",
       "      <td>32604</td>\n",
       "      <td>24</td>\n",
       "      <td>6</td>\n",
       "      <td>concept</td>\n",
       "    </tr>\n",
       "    <tr>\n",
       "      <th>416</th>\n",
       "      <td>32625</td>\n",
       "      <td>142</td>\n",
       "      <td>2</td>\n",
       "      <td>concept</td>\n",
       "    </tr>\n",
       "    <tr>\n",
       "      <th>417</th>\n",
       "      <td>32736</td>\n",
       "      <td>82</td>\n",
       "      <td>3</td>\n",
       "      <td>concept</td>\n",
       "    </tr>\n",
       "  </tbody>\n",
       "</table>\n",
       "<p>418 rows × 4 columns</p>\n",
       "</div>"
      ],
      "text/plain": [
       "     lecture_id  tag  part           type_of\n",
       "0            89  159     5           concept\n",
       "1           100   70     1           concept\n",
       "2           185   45     6           concept\n",
       "3           192   79     5  solving question\n",
       "4           317  156     5  solving question\n",
       "..          ...  ...   ...               ...\n",
       "413       32535    8     5  solving question\n",
       "414       32570  113     3  solving question\n",
       "415       32604   24     6           concept\n",
       "416       32625  142     2           concept\n",
       "417       32736   82     3           concept\n",
       "\n",
       "[418 rows x 4 columns]"
      ]
     },
     "execution_count": 144,
     "metadata": {},
     "output_type": "execute_result"
    }
   ],
   "source": [
    "lectures"
   ]
  },
  {
   "cell_type": "code",
   "execution_count": 145,
   "metadata": {},
   "outputs": [
    {
     "data": {
      "text/plain": [
       "concept             222\n",
       "solving question    186\n",
       "intention             7\n",
       "starter               3\n",
       "Name: type_of, dtype: int64"
      ]
     },
     "execution_count": 145,
     "metadata": {},
     "output_type": "execute_result"
    }
   ],
   "source": [
    "lectures[\"type_of\"].value_counts()"
   ]
  },
  {
   "cell_type": "code",
   "execution_count": 146,
   "metadata": {},
   "outputs": [
    {
     "data": {
      "image/png": "[encoded data removed]",
      "text/plain": [
       "<Figure size 640x480 with 1 Axes>"
      ]
     },
     "metadata": {},
     "output_type": "display_data"
    }
   ],
   "source": [
    "lect_type_of = lectures[\"type_of\"].value_counts()\n",
    "fig = plt.figure()\n",
    "plt.bar(lect_type_of.index, lect_type_of.values)\n",
    "plt.title(\"Распределение типов лекций\")\n",
    "plt.show()"
   ]
  },
  {
   "cell_type": "code",
   "execution_count": 147,
   "metadata": {},
   "outputs": [
    {
     "name": "stdout",
     "output_type": "stream",
     "text": [
      "Количество уникальных тегов в лекциях: 151\n"
     ]
    }
   ],
   "source": [
    "print(f\"Количество уникальных тегов в лекциях: {lectures['tag'].nunique()}\")"
   ]
  },
  {
   "cell_type": "code",
   "execution_count": 148,
   "metadata": {},
   "outputs": [
    {
     "data": {
      "image/png": "[encoded data removed]",
      "text/plain": [
       "<Figure size 640x480 with 1 Axes>"
      ]
     },
     "metadata": {},
     "output_type": "display_data"
    }
   ],
   "source": [
    "lect_part = lectures[\"part\"].value_counts()\n",
    "fig = plt.figure()\n",
    "plt.bar(lect_part.index, lect_part.values)\n",
    "plt.title(\"Распределение part лекций\")\n",
    "plt.show()"
   ]
  }
 ],
 "metadata": {
  "kernelspec": {
   "display_name": "Python 3.9.12 ('base')",
   "language": "python",
   "name": "python3"
  },
  "language_info": {
   "codemirror_mode": {
    "name": "ipython",
    "version": 3
   },
   "file_extension": ".py",
   "mimetype": "text/x-python",
   "name": "python",
   "nbconvert_exporter": "python",
   "pygments_lexer": "ipython3",
   "version": "3.9.12"
  },
  "orig_nbformat": 4,
  "vscode": {
   "interpreter": {
    "hash": "f08154012ddadd8e950e6e9e035c7a7b32c136e7647e9b7c77e02eb723a8bedb"
   }
  }
 },
 "nbformat": 4,
 "nbformat_minor": 2
}
