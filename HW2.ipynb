{
  "nbformat": 4,
  "nbformat_minor": 0,
  "metadata": {
    "colab": {
      "provenance": [],
      "collapsed_sections": []
    },
    "kernelspec": {
      "name": "python3",
      "display_name": "Python 3"
    },
    "language_info": {
      "name": "python"
    }
  },
  "cells": [
    {
      "cell_type": "code",
      "source": [
        "!pip install -q -U kaggle_environments"
      ],
      "metadata": {
        "id": "NJaYf7thPE5e",
        "colab": {
          "base_uri": "https://localhost:8080/"
        },
        "outputId": "2ae874e1-141b-4e5a-b3cf-741ff61c3ebd"
      },
      "execution_count": 1,
      "outputs": [
        {
          "output_type": "stream",
          "name": "stdout",
          "text": [
            "\u001b[K     |████████████████████████████████| 1.9 MB 5.1 MB/s \n",
            "\u001b[K     |████████████████████████████████| 62 kB 1.3 MB/s \n",
            "\u001b[?25h"
          ]
        }
      ]
    },
    {
      "cell_type": "code",
      "source": [
        "import numpy as np\n",
        "import pandas as pd\n",
        "import random\n",
        "\n",
        "import matplotlib.pyplot as plt\n",
        "import seaborn as sns\n",
        "\n",
        "from kaggle_environments import make, evaluate"
      ],
      "metadata": {
        "id": "wAsvXq5JPUoT"
      },
      "execution_count": 2,
      "outputs": []
    },
    {
      "cell_type": "code",
      "source": [
        "agents_list = [\"rock_agent.py\",\n",
        "               \"paper_agent.py\",\n",
        "               \"scissors_agent.py\",\n",
        "               \"rp_agent.py\",\n",
        "               \"ps_agent.py\",\n",
        "               \"rs_agent.py\",\n",
        "               \"random_agent.py\",\n",
        "               \"copy_opponent.py\",\n",
        "               \"counter_opponent.py\",\n",
        "               \"lose_reaction.py\",\n",
        "               \"statistical.py\",\n",
        "               \"roll_agent.py\"]"
      ],
      "metadata": {
        "id": "-Hx8Ai8LQL1l"
      },
      "execution_count": 34,
      "outputs": []
    },
    {
      "cell_type": "code",
      "source": [
        "%%writefile rock_agent.py\n",
        "\n",
        "#Агент \"Только Камень\"\n",
        "#0 - rock\n",
        "#1 - paper\n",
        "#2 - scissors\n",
        "def rock_agent(observation, configuration):\n",
        "    return 0"
      ],
      "metadata": {
        "colab": {
          "base_uri": "https://localhost:8080/"
        },
        "id": "hB6KB0GXxfOv",
        "outputId": "82b562bf-0880-4632-fd29-c328ee3b4fcb"
      },
      "execution_count": 4,
      "outputs": [
        {
          "output_type": "stream",
          "name": "stdout",
          "text": [
            "Writing rock_agent.py\n"
          ]
        }
      ]
    },
    {
      "cell_type": "code",
      "source": [
        "%%writefile paper_agent.py\n",
        "\n",
        "#Агент \"Только Бумага\"\n",
        "def paper_agent(observation, configuration):\n",
        "    return 1"
      ],
      "metadata": {
        "colab": {
          "base_uri": "https://localhost:8080/"
        },
        "id": "I8YcobWl0fuf",
        "outputId": "cb7b5020-4dac-44f4-a8f2-95a196c51045"
      },
      "execution_count": 5,
      "outputs": [
        {
          "output_type": "stream",
          "name": "stdout",
          "text": [
            "Writing paper_agent.py\n"
          ]
        }
      ]
    },
    {
      "cell_type": "code",
      "source": [
        "%%writefile scissors_agent.py\n",
        "\n",
        "#Агент \"Только Ножницы\"\n",
        "def scissors_agent(observation, configuration):\n",
        "    return 2"
      ],
      "metadata": {
        "colab": {
          "base_uri": "https://localhost:8080/"
        },
        "id": "NLTAOYh146Oe",
        "outputId": "2b43597e-c920-4629-efb3-5fed7d7a35d3"
      },
      "execution_count": 6,
      "outputs": [
        {
          "output_type": "stream",
          "name": "stdout",
          "text": [
            "Writing scissors_agent.py\n"
          ]
        }
      ]
    },
    {
      "cell_type": "code",
      "source": [
        "%%writefile rp_agent.py\n",
        "\n",
        "import random\n",
        "\n",
        "#Агент \"Камень Бумага\"\n",
        "def rp_agent(observation, configuration):\n",
        "    return random.randrange(0, 2)"
      ],
      "metadata": {
        "colab": {
          "base_uri": "https://localhost:8080/"
        },
        "id": "SZCbB-t_5ced",
        "outputId": "f197ed8c-59a0-432f-c81c-dd06b47729cc"
      },
      "execution_count": 7,
      "outputs": [
        {
          "output_type": "stream",
          "name": "stdout",
          "text": [
            "Writing rp_agent.py\n"
          ]
        }
      ]
    },
    {
      "cell_type": "code",
      "source": [
        "%%writefile ps_agent.py\n",
        "\n",
        "import random\n",
        "\n",
        "#Агент \"Бумага Ножницы\"\n",
        "def rp_agent(observation, configuration):\n",
        "    return random.randrange(1, 3)"
      ],
      "metadata": {
        "colab": {
          "base_uri": "https://localhost:8080/"
        },
        "id": "3dP07zG_6ClL",
        "outputId": "a8d35a0d-ff4c-42c2-c28b-e708228f807e"
      },
      "execution_count": 8,
      "outputs": [
        {
          "output_type": "stream",
          "name": "stdout",
          "text": [
            "Writing ps_agent.py\n"
          ]
        }
      ]
    },
    {
      "cell_type": "code",
      "source": [
        "%%writefile rs_agent.py\n",
        "\n",
        "import random\n",
        "\n",
        "#Агент \"Камень Ножницы\"\n",
        "def rs_agent(observation, configuration):\n",
        "    signs = [0, 2]\n",
        "    return signs[random.randrange(0, 2)]"
      ],
      "metadata": {
        "colab": {
          "base_uri": "https://localhost:8080/"
        },
        "id": "SJyOlzhXG6lv",
        "outputId": "ddb0fddc-8d4c-43f7-d9f0-4b11f04250bb"
      },
      "execution_count": 9,
      "outputs": [
        {
          "output_type": "stream",
          "name": "stdout",
          "text": [
            "Writing rs_agent.py\n"
          ]
        }
      ]
    },
    {
      "cell_type": "code",
      "source": [
        "%%writefile random_agent.py\n",
        "\n",
        "import random\n",
        "\n",
        "#Рандомный агент\n",
        "def random_agent(observation, configuration):\n",
        "    return random.randrange(0, configuration.signs-1)"
      ],
      "metadata": {
        "colab": {
          "base_uri": "https://localhost:8080/"
        },
        "id": "tBKCOfWGxfyP",
        "outputId": "c303d863-c99e-4bd1-9aec-42080ce159cf"
      },
      "execution_count": 10,
      "outputs": [
        {
          "output_type": "stream",
          "name": "stdout",
          "text": [
            "Writing random_agent.py\n"
          ]
        }
      ]
    },
    {
      "cell_type": "code",
      "source": [
        "%%writefile copy_opponent.py\n",
        "\n",
        "import random\n",
        "\n",
        "# Копирует ход оппонента\n",
        "def copy_opponent(observation, configuration):    \n",
        "    if observation.step > 0:\n",
        "        return observation.lastOpponentAction\n",
        "    else:\n",
        "        return random.randrange(0, configuration.signs)"
      ],
      "metadata": {
        "id": "RerfxjwBIk3t",
        "colab": {
          "base_uri": "https://localhost:8080/"
        },
        "outputId": "47b71a0a-cfe8-40e4-e0fe-d73cabd0a4f2"
      },
      "execution_count": 11,
      "outputs": [
        {
          "output_type": "stream",
          "name": "stdout",
          "text": [
            "Writing copy_opponent.py\n"
          ]
        }
      ]
    },
    {
      "cell_type": "code",
      "source": [
        "%%writefile counter_opponent.py\n",
        "\n",
        "import random\n",
        "\n",
        "# Играем контрисходы в ответ\n",
        "def counter_opponent(observation, configuration):\n",
        "    if observation.step > 0:\n",
        "        return (observation.lastOpponentAction + 1) % configuration.signs\n",
        "    else:\n",
        "        return random.randrange(0, configuration.signs)"
      ],
      "metadata": {
        "colab": {
          "base_uri": "https://localhost:8080/"
        },
        "id": "7uKqZMBaHw6N",
        "outputId": "149ecb3b-5925-42ad-a3d8-caf03aa2c4e0"
      },
      "execution_count": 12,
      "outputs": [
        {
          "output_type": "stream",
          "name": "stdout",
          "text": [
            "Writing counter_opponent.py\n"
          ]
        }
      ]
    },
    {
      "cell_type": "code",
      "source": [
        "%%writefile lose_reaction.py\n",
        "\n",
        "import random\n",
        "\n",
        "#Играем исход, который проиграл бы в прошлом раунде\n",
        "def counter_opponent(observation, configuration):\n",
        "    if observation.step > 0:\n",
        "        return (observation.lastOpponentAction + 2) % configuration.signs\n",
        "    else:\n",
        "        return random.randrange(0, configuration.signs)"
      ],
      "metadata": {
        "colab": {
          "base_uri": "https://localhost:8080/"
        },
        "id": "TO_ujs9tMhCu",
        "outputId": "fe651239-7159-4786-cd78-9cd9824284e5"
      },
      "execution_count": 13,
      "outputs": [
        {
          "output_type": "stream",
          "name": "stdout",
          "text": [
            "Writing lose_reaction.py\n"
          ]
        }
      ]
    },
    {
      "cell_type": "code",
      "source": [
        "%%writefile statistical.py\n",
        "\n",
        "# Играем контрисход против самого популярного хода\n",
        "\n",
        "def statistical(observation, configuration):\n",
        "    global action_histogram\n",
        "    if observation.step == 0:\n",
        "        action_histogram = {}\n",
        "        return\n",
        "    action = observation.lastOpponentAction\n",
        "    if action not in action_histogram:\n",
        "        action_histogram[action] = 0\n",
        "    action_histogram[action] += 1\n",
        "    mode_action = None\n",
        "    mode_action_count = None\n",
        "    for k, v in action_histogram.items():\n",
        "        if mode_action_count is None or v > mode_action_count:\n",
        "            mode_action = k\n",
        "            mode_action_count = v\n",
        "            continue\n",
        "\n",
        "    return (mode_action + 1) % configuration.signs"
      ],
      "metadata": {
        "colab": {
          "base_uri": "https://localhost:8080/"
        },
        "id": "WQ5u5V6CLvyv",
        "outputId": "cc365a30-3a02-4851-d463-4fcdc794e6d1"
      },
      "execution_count": 24,
      "outputs": [
        {
          "output_type": "stream",
          "name": "stdout",
          "text": [
            "Writing statistical.py\n"
          ]
        }
      ]
    },
    {
      "cell_type": "code",
      "source": [
        "%%writefile roll_agent.py\n",
        "\n",
        "# Играем контрисход против самого популярного хода со сменой тактики\n",
        "\n",
        "def roll_agent(observation, configuration):\n",
        "    global action_histogram\n",
        "    global alt_mode\n",
        "\n",
        "    if observation.step == 0:\n",
        "        action_histogram = {}\n",
        "        alt_mode = False\n",
        "        return\n",
        "\n",
        "    #Если после 20% игр счет нас не устраивает, то меняем тактику\n",
        "    if not alt_mode:\n",
        "        if observation.step > configuration.episodeSteps * 0.2:\n",
        "            if observation.reward < observation.step * 0.1:\n",
        "                alt_mode = True\n",
        "    if alt_mode:\n",
        "        return (observation.lastOpponentAction + 1) % configuration.signs\n",
        "    \n",
        "    action = observation.lastOpponentAction\n",
        "    if action not in action_histogram:\n",
        "        action_histogram[action] = 0\n",
        "    action_histogram[action] += 1\n",
        "    mode_action = None\n",
        "    mode_action_count = None\n",
        "    for k, v in action_histogram.items():\n",
        "        if mode_action_count is None or v > mode_action_count:\n",
        "            mode_action = k\n",
        "            mode_action_count = v\n",
        "            continue\n",
        "\n",
        "    return (mode_action + 1) % configuration.signs"
      ],
      "metadata": {
        "id": "KCigvAQsR13W",
        "colab": {
          "base_uri": "https://localhost:8080/"
        },
        "outputId": "0d108d2f-3855-423e-bb80-209722edcce1"
      },
      "execution_count": 41,
      "outputs": [
        {
          "output_type": "stream",
          "name": "stdout",
          "text": [
            "Overwriting roll_agent.py\n"
          ]
        }
      ]
    },
    {
      "cell_type": "code",
      "source": [
        "scores_table_size = len(agents_list)\n",
        "scores_table = np.zeros((scores_table_size, scores_table_size), dtype=int)\n",
        "\n",
        "total_score = []\n",
        "for i in range(scores_table_size):\n",
        "    for j in range(i + 1, scores_table_size):\n",
        "        res = evaluate(\n",
        "                \"rps\", #environment to use - no need to change\n",
        "                [agents_list[i], agents_list[j]], #agents to evaluate\n",
        "                configuration={\"episodeSteps\": 1000, \"tieRewardThreshold\":100} #number of episodes \n",
        "                )\n",
        "        scores_table[i][j] = res[0][0]\n",
        "        scores_table[j][i] = res[0][1]\n",
        "    total_score.append(sum(scores_table[i]))\n",
        "    print(f\"Агент {agents_list[i]} закончил работу\")\n",
        "                       "
      ],
      "metadata": {
        "colab": {
          "base_uri": "https://localhost:8080/"
        },
        "id": "65Tvrb-hTNPt",
        "outputId": "86ee1b92-9521-49b1-d71d-53a2a8f301b7"
      },
      "execution_count": 46,
      "outputs": [
        {
          "output_type": "stream",
          "name": "stdout",
          "text": [
            "Агент rock_agent.py закончил работу\n",
            "Агент paper_agent.py закончил работу\n",
            "Агент scissors_agent.py закончил работу\n",
            "Агент rp_agent.py закончил работу\n",
            "Агент ps_agent.py закончил работу\n",
            "Агент rs_agent.py закончил работу\n",
            "Агент random_agent.py закончил работу\n",
            "Агент copy_opponent.py закончил работу\n",
            "Агент counter_opponent.py закончил работу\n",
            "Агент lose_reaction.py закончил работу\n",
            "Агент statistical.py закончил работу\n",
            "Агент roll_agent.py закончил работу\n"
          ]
        }
      ]
    },
    {
      "cell_type": "code",
      "source": [
        "df_scores_table = pd.DataFrame(scores_table, index = agents_list, columns = agents_list)\n",
        "display(df_scores_table)"
      ],
      "metadata": {
        "colab": {
          "base_uri": "https://localhost:8080/",
          "height": 426
        },
        "id": "KVoKc3bqJuUp",
        "outputId": "54f6dba3-1ad4-4cf8-e0cb-bedf0b10f364"
      },
      "execution_count": 47,
      "outputs": [
        {
          "output_type": "display_data",
          "data": {
            "text/plain": [
              "                     rock_agent.py  paper_agent.py  scissors_agent.py  \\\n",
              "rock_agent.py                    0            -999                999   \n",
              "paper_agent.py                 999               0               -999   \n",
              "scissors_agent.py             -999             999                  0   \n",
              "rp_agent.py                    481            -541                  0   \n",
              "ps_agent.py                      0             504               -501   \n",
              "rs_agent.py                   -521               0                521   \n",
              "random_agent.py                492            -500                  0   \n",
              "copy_opponent.py                 0               0                  0   \n",
              "counter_opponent.py            999             998                997   \n",
              "lose_reaction.py              -998            -999               -999   \n",
              "statistical.py                 998             997                999   \n",
              "roll_agent.py                  998             997                999   \n",
              "\n",
              "                     rp_agent.py  ps_agent.py  rs_agent.py  random_agent.py  \\\n",
              "rock_agent.py               -481            0          521             -492   \n",
              "paper_agent.py               541         -504            0              500   \n",
              "scissors_agent.py              0          501         -521                0   \n",
              "rp_agent.py                    0         -272          271                0   \n",
              "ps_agent.py                  272            0         -237              252   \n",
              "rs_agent.py                 -271          237            0             -282   \n",
              "random_agent.py                0         -252          282                0   \n",
              "copy_opponent.py               0            0            0                0   \n",
              "counter_opponent.py          248          218          232              262   \n",
              "lose_reaction.py            -231         -233         -278             -237   \n",
              "statistical.py               172          176          138                0   \n",
              "roll_agent.py                163          384          196              305   \n",
              "\n",
              "                     copy_opponent.py  counter_opponent.py  lose_reaction.py  \\\n",
              "rock_agent.py                       0                 -999               998   \n",
              "paper_agent.py                      0                 -998               999   \n",
              "scissors_agent.py                   0                 -997               999   \n",
              "rp_agent.py                         0                 -248               231   \n",
              "ps_agent.py                         0                 -218               233   \n",
              "rs_agent.py                         0                 -232               278   \n",
              "random_agent.py                     0                 -262               237   \n",
              "copy_opponent.py                    0                  999               500   \n",
              "counter_opponent.py              -999                    0              -500   \n",
              "lose_reaction.py                 -500                  500                 0   \n",
              "statistical.py                    247                 -599               996   \n",
              "roll_agent.py                     200                    0               996   \n",
              "\n",
              "                     statistical.py  roll_agent.py  \n",
              "rock_agent.py                  -998           -998  \n",
              "paper_agent.py                 -997           -997  \n",
              "scissors_agent.py              -999           -999  \n",
              "rp_agent.py                    -172           -163  \n",
              "ps_agent.py                    -176           -384  \n",
              "rs_agent.py                    -138           -196  \n",
              "random_agent.py                   0           -305  \n",
              "copy_opponent.py               -247           -200  \n",
              "counter_opponent.py             599              0  \n",
              "lose_reaction.py               -996           -996  \n",
              "statistical.py                    0           -398  \n",
              "roll_agent.py                   398              0  "
            ],
            "text/html": [
              "\n",
              "  <div id=\"df-b09a795e-5599-4ebe-9067-6b024cc388be\">\n",
              "    <div class=\"colab-df-container\">\n",
              "      <div>\n",
              "<style scoped>\n",
              "    .dataframe tbody tr th:only-of-type {\n",
              "        vertical-align: middle;\n",
              "    }\n",
              "\n",
              "    .dataframe tbody tr th {\n",
              "        vertical-align: top;\n",
              "    }\n",
              "\n",
              "    .dataframe thead th {\n",
              "        text-align: right;\n",
              "    }\n",
              "</style>\n",
              "<table border=\"1\" class=\"dataframe\">\n",
              "  <thead>\n",
              "    <tr style=\"text-align: right;\">\n",
              "      <th></th>\n",
              "      <th>rock_agent.py</th>\n",
              "      <th>paper_agent.py</th>\n",
              "      <th>scissors_agent.py</th>\n",
              "      <th>rp_agent.py</th>\n",
              "      <th>ps_agent.py</th>\n",
              "      <th>rs_agent.py</th>\n",
              "      <th>random_agent.py</th>\n",
              "      <th>copy_opponent.py</th>\n",
              "      <th>counter_opponent.py</th>\n",
              "      <th>lose_reaction.py</th>\n",
              "      <th>statistical.py</th>\n",
              "      <th>roll_agent.py</th>\n",
              "    </tr>\n",
              "  </thead>\n",
              "  <tbody>\n",
              "    <tr>\n",
              "      <th>rock_agent.py</th>\n",
              "      <td>0</td>\n",
              "      <td>-999</td>\n",
              "      <td>999</td>\n",
              "      <td>-481</td>\n",
              "      <td>0</td>\n",
              "      <td>521</td>\n",
              "      <td>-492</td>\n",
              "      <td>0</td>\n",
              "      <td>-999</td>\n",
              "      <td>998</td>\n",
              "      <td>-998</td>\n",
              "      <td>-998</td>\n",
              "    </tr>\n",
              "    <tr>\n",
              "      <th>paper_agent.py</th>\n",
              "      <td>999</td>\n",
              "      <td>0</td>\n",
              "      <td>-999</td>\n",
              "      <td>541</td>\n",
              "      <td>-504</td>\n",
              "      <td>0</td>\n",
              "      <td>500</td>\n",
              "      <td>0</td>\n",
              "      <td>-998</td>\n",
              "      <td>999</td>\n",
              "      <td>-997</td>\n",
              "      <td>-997</td>\n",
              "    </tr>\n",
              "    <tr>\n",
              "      <th>scissors_agent.py</th>\n",
              "      <td>-999</td>\n",
              "      <td>999</td>\n",
              "      <td>0</td>\n",
              "      <td>0</td>\n",
              "      <td>501</td>\n",
              "      <td>-521</td>\n",
              "      <td>0</td>\n",
              "      <td>0</td>\n",
              "      <td>-997</td>\n",
              "      <td>999</td>\n",
              "      <td>-999</td>\n",
              "      <td>-999</td>\n",
              "    </tr>\n",
              "    <tr>\n",
              "      <th>rp_agent.py</th>\n",
              "      <td>481</td>\n",
              "      <td>-541</td>\n",
              "      <td>0</td>\n",
              "      <td>0</td>\n",
              "      <td>-272</td>\n",
              "      <td>271</td>\n",
              "      <td>0</td>\n",
              "      <td>0</td>\n",
              "      <td>-248</td>\n",
              "      <td>231</td>\n",
              "      <td>-172</td>\n",
              "      <td>-163</td>\n",
              "    </tr>\n",
              "    <tr>\n",
              "      <th>ps_agent.py</th>\n",
              "      <td>0</td>\n",
              "      <td>504</td>\n",
              "      <td>-501</td>\n",
              "      <td>272</td>\n",
              "      <td>0</td>\n",
              "      <td>-237</td>\n",
              "      <td>252</td>\n",
              "      <td>0</td>\n",
              "      <td>-218</td>\n",
              "      <td>233</td>\n",
              "      <td>-176</td>\n",
              "      <td>-384</td>\n",
              "    </tr>\n",
              "    <tr>\n",
              "      <th>rs_agent.py</th>\n",
              "      <td>-521</td>\n",
              "      <td>0</td>\n",
              "      <td>521</td>\n",
              "      <td>-271</td>\n",
              "      <td>237</td>\n",
              "      <td>0</td>\n",
              "      <td>-282</td>\n",
              "      <td>0</td>\n",
              "      <td>-232</td>\n",
              "      <td>278</td>\n",
              "      <td>-138</td>\n",
              "      <td>-196</td>\n",
              "    </tr>\n",
              "    <tr>\n",
              "      <th>random_agent.py</th>\n",
              "      <td>492</td>\n",
              "      <td>-500</td>\n",
              "      <td>0</td>\n",
              "      <td>0</td>\n",
              "      <td>-252</td>\n",
              "      <td>282</td>\n",
              "      <td>0</td>\n",
              "      <td>0</td>\n",
              "      <td>-262</td>\n",
              "      <td>237</td>\n",
              "      <td>0</td>\n",
              "      <td>-305</td>\n",
              "    </tr>\n",
              "    <tr>\n",
              "      <th>copy_opponent.py</th>\n",
              "      <td>0</td>\n",
              "      <td>0</td>\n",
              "      <td>0</td>\n",
              "      <td>0</td>\n",
              "      <td>0</td>\n",
              "      <td>0</td>\n",
              "      <td>0</td>\n",
              "      <td>0</td>\n",
              "      <td>999</td>\n",
              "      <td>500</td>\n",
              "      <td>-247</td>\n",
              "      <td>-200</td>\n",
              "    </tr>\n",
              "    <tr>\n",
              "      <th>counter_opponent.py</th>\n",
              "      <td>999</td>\n",
              "      <td>998</td>\n",
              "      <td>997</td>\n",
              "      <td>248</td>\n",
              "      <td>218</td>\n",
              "      <td>232</td>\n",
              "      <td>262</td>\n",
              "      <td>-999</td>\n",
              "      <td>0</td>\n",
              "      <td>-500</td>\n",
              "      <td>599</td>\n",
              "      <td>0</td>\n",
              "    </tr>\n",
              "    <tr>\n",
              "      <th>lose_reaction.py</th>\n",
              "      <td>-998</td>\n",
              "      <td>-999</td>\n",
              "      <td>-999</td>\n",
              "      <td>-231</td>\n",
              "      <td>-233</td>\n",
              "      <td>-278</td>\n",
              "      <td>-237</td>\n",
              "      <td>-500</td>\n",
              "      <td>500</td>\n",
              "      <td>0</td>\n",
              "      <td>-996</td>\n",
              "      <td>-996</td>\n",
              "    </tr>\n",
              "    <tr>\n",
              "      <th>statistical.py</th>\n",
              "      <td>998</td>\n",
              "      <td>997</td>\n",
              "      <td>999</td>\n",
              "      <td>172</td>\n",
              "      <td>176</td>\n",
              "      <td>138</td>\n",
              "      <td>0</td>\n",
              "      <td>247</td>\n",
              "      <td>-599</td>\n",
              "      <td>996</td>\n",
              "      <td>0</td>\n",
              "      <td>-398</td>\n",
              "    </tr>\n",
              "    <tr>\n",
              "      <th>roll_agent.py</th>\n",
              "      <td>998</td>\n",
              "      <td>997</td>\n",
              "      <td>999</td>\n",
              "      <td>163</td>\n",
              "      <td>384</td>\n",
              "      <td>196</td>\n",
              "      <td>305</td>\n",
              "      <td>200</td>\n",
              "      <td>0</td>\n",
              "      <td>996</td>\n",
              "      <td>398</td>\n",
              "      <td>0</td>\n",
              "    </tr>\n",
              "  </tbody>\n",
              "</table>\n",
              "</div>\n",
              "      <button class=\"colab-df-convert\" onclick=\"convertToInteractive('df-b09a795e-5599-4ebe-9067-6b024cc388be')\"\n",
              "              title=\"Convert this dataframe to an interactive table.\"\n",
              "              style=\"display:none;\">\n",
              "        \n",
              "  <svg xmlns=\"http://www.w3.org/2000/svg\" height=\"24px\"viewBox=\"0 0 24 24\"\n",
              "       width=\"24px\">\n",
              "    <path d=\"M0 0h24v24H0V0z\" fill=\"none\"/>\n",
              "    <path d=\"M18.56 5.44l.94 2.06.94-2.06 2.06-.94-2.06-.94-.94-2.06-.94 2.06-2.06.94zm-11 1L8.5 8.5l.94-2.06 2.06-.94-2.06-.94L8.5 2.5l-.94 2.06-2.06.94zm10 10l.94 2.06.94-2.06 2.06-.94-2.06-.94-.94-2.06-.94 2.06-2.06.94z\"/><path d=\"M17.41 7.96l-1.37-1.37c-.4-.4-.92-.59-1.43-.59-.52 0-1.04.2-1.43.59L10.3 9.45l-7.72 7.72c-.78.78-.78 2.05 0 2.83L4 21.41c.39.39.9.59 1.41.59.51 0 1.02-.2 1.41-.59l7.78-7.78 2.81-2.81c.8-.78.8-2.07 0-2.86zM5.41 20L4 18.59l7.72-7.72 1.47 1.35L5.41 20z\"/>\n",
              "  </svg>\n",
              "      </button>\n",
              "      \n",
              "  <style>\n",
              "    .colab-df-container {\n",
              "      display:flex;\n",
              "      flex-wrap:wrap;\n",
              "      gap: 12px;\n",
              "    }\n",
              "\n",
              "    .colab-df-convert {\n",
              "      background-color: #E8F0FE;\n",
              "      border: none;\n",
              "      border-radius: 50%;\n",
              "      cursor: pointer;\n",
              "      display: none;\n",
              "      fill: #1967D2;\n",
              "      height: 32px;\n",
              "      padding: 0 0 0 0;\n",
              "      width: 32px;\n",
              "    }\n",
              "\n",
              "    .colab-df-convert:hover {\n",
              "      background-color: #E2EBFA;\n",
              "      box-shadow: 0px 1px 2px rgba(60, 64, 67, 0.3), 0px 1px 3px 1px rgba(60, 64, 67, 0.15);\n",
              "      fill: #174EA6;\n",
              "    }\n",
              "\n",
              "    [theme=dark] .colab-df-convert {\n",
              "      background-color: #3B4455;\n",
              "      fill: #D2E3FC;\n",
              "    }\n",
              "\n",
              "    [theme=dark] .colab-df-convert:hover {\n",
              "      background-color: #434B5C;\n",
              "      box-shadow: 0px 1px 3px 1px rgba(0, 0, 0, 0.15);\n",
              "      filter: drop-shadow(0px 1px 2px rgba(0, 0, 0, 0.3));\n",
              "      fill: #FFFFFF;\n",
              "    }\n",
              "  </style>\n",
              "\n",
              "      <script>\n",
              "        const buttonEl =\n",
              "          document.querySelector('#df-b09a795e-5599-4ebe-9067-6b024cc388be button.colab-df-convert');\n",
              "        buttonEl.style.display =\n",
              "          google.colab.kernel.accessAllowed ? 'block' : 'none';\n",
              "\n",
              "        async function convertToInteractive(key) {\n",
              "          const element = document.querySelector('#df-b09a795e-5599-4ebe-9067-6b024cc388be');\n",
              "          const dataTable =\n",
              "            await google.colab.kernel.invokeFunction('convertToInteractive',\n",
              "                                                     [key], {});\n",
              "          if (!dataTable) return;\n",
              "\n",
              "          const docLinkHtml = 'Like what you see? Visit the ' +\n",
              "            '<a target=\"_blank\" href=https://colab.research.google.com/notebooks/data_table.ipynb>data table notebook</a>'\n",
              "            + ' to learn more about interactive tables.';\n",
              "          element.innerHTML = '';\n",
              "          dataTable['output_type'] = 'display_data';\n",
              "          await google.colab.output.renderOutput(dataTable, element);\n",
              "          const docLink = document.createElement('div');\n",
              "          docLink.innerHTML = docLinkHtml;\n",
              "          element.appendChild(docLink);\n",
              "        }\n",
              "      </script>\n",
              "    </div>\n",
              "  </div>\n",
              "  "
            ]
          },
          "metadata": {}
        }
      ]
    },
    {
      "cell_type": "code",
      "source": [
        "temp_result = [(agent, score) for agent, score in zip(agents_list, total_score)]\n",
        "result_table = sorted(temp_result, key=lambda x: x[1])\n",
        "\n",
        "for record in result_table[::-1]:\n",
        "  print(f\"{record[0]:<20}: {record[1]:>4} баллов\")"
      ],
      "metadata": {
        "colab": {
          "base_uri": "https://localhost:8080/"
        },
        "id": "oXmJaF1PZ6tb",
        "outputId": "a9fde7a4-8eb5-4bbc-f030-cd95462ec770"
      },
      "execution_count": 48,
      "outputs": [
        {
          "output_type": "stream",
          "name": "stdout",
          "text": [
            "roll_agent.py       : 5636 баллов\n",
            "statistical.py      : 3726 баллов\n",
            "counter_opponent.py : 3054 баллов\n",
            "copy_opponent.py    : 1052 баллов\n",
            "ps_agent.py         : -255 баллов\n",
            "random_agent.py     : -308 баллов\n",
            "rp_agent.py         : -413 баллов\n",
            "rs_agent.py         : -604 баллов\n",
            "paper_agent.py      : -1456 баллов\n",
            "scissors_agent.py   : -2016 баллов\n",
            "rock_agent.py       : -2449 баллов\n",
            "lose_reaction.py    : -5967 баллов\n"
          ]
        }
      ]
    }
  ]
}